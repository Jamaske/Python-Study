{
 "cells": [
  {
   "cell_type": "markdown",
   "metadata": {},
   "source": [
    "\n",
    "# Синтаксический разбор XML\n",
    "по материалам https://diveintopython3.net/xml.html на основе файла movies.xml"
   ]
  },
  {
   "cell_type": "code",
   "execution_count": null,
   "metadata": {
    "pycharm": {
     "is_executing": true
    }
   },
   "outputs": [],
   "source": [
    "from lxml import etree as ET  \n",
    "tree = ET.parse('movies.xml')  \n",
    "root = tree.getroot() \n",
    "print(f'{root.tag = }') # имя корневого тега\n",
    "print(root) # строковое представление корневого элемента содержит информацию об имени элемента и адресе в памяти"
   ]
  },
  {
   "cell_type": "markdown",
   "metadata": {},
   "source": [
    "Далее нужно вместо print(\"...\") написать ваш коменатарий, что делает команада, например для следущей ячейки подойдет\n",
    "\n",
    "print(\"Список всех тегов с именем Movie:\")\n",
    "\n",
    "root.findall('Movie')"
   ]
  },
  {
   "cell_type": "code",
   "execution_count": 5,
   "metadata": {
    "pycharm": {
     "is_executing": true
    }
   },
   "outputs": [
    {
     "name": "stdout",
     "output_type": "stream",
     "text": [
      "...\n"
     ]
    },
    {
     "data": {
      "text/plain": [
       "[<Element Movie at 0x1e87f5f8c80>,\n",
       " <Element Movie at 0x1e87f737f00>,\n",
       " <Element Movie at 0x1e87f78e900>,\n",
       " <Element Movie at 0x1e87f78e8c0>,\n",
       " <Element Movie at 0x1e87f78ea00>,\n",
       " <Element Movie at 0x1e87f78ea40>,\n",
       " <Element Movie at 0x1e87f78ea80>,\n",
       " <Element Movie at 0x1e87f78eac0>,\n",
       " <Element Movie at 0x1e87f78eb00>,\n",
       " <Element Movie at 0x1e87f78eb40>,\n",
       " <Element Movie at 0x1e87f73c980>,\n",
       " <Element Movie at 0x1e87f78eb80>]"
      ]
     },
     "execution_count": 5,
     "metadata": {},
     "output_type": "execute_result"
    }
   ],
   "source": [
    "print(\"...\")\n",
    "root.findall('Movie')"
   ]
  },
  {
   "cell_type": "code",
   "execution_count": null,
   "metadata": {
    "tags": []
   },
   "outputs": [],
   "source": [
    "entries_movie = tree.xpath(\"/Movies/Movie\")\n",
    "print(\"...\")\n",
    "entries_movie"
   ]
  },
  {
   "cell_type": "code",
   "execution_count": null,
   "metadata": {},
   "outputs": [],
   "source": [
    "entries_movie = tree.xpath(\"//Movie\")\n",
    "print(\"...\")\n",
    "entries_movie"
   ]
  },
  {
   "cell_type": "code",
   "execution_count": null,
   "metadata": {},
   "outputs": [],
   "source": [
    "entries_title = tree.xpath(\"//Title\")\n",
    "print(\"...\")\n",
    "entries_title"
   ]
  },
  {
   "cell_type": "code",
   "execution_count": null,
   "metadata": {},
   "outputs": [],
   "source": [
    "print(\"...\")\n",
    "entries_title[0].text"
   ]
  },
  {
   "cell_type": "code",
   "execution_count": null,
   "metadata": {},
   "outputs": [],
   "source": [
    "print(\"...\")\n",
    "entries_title[0].tag"
   ]
  },
  {
   "cell_type": "code",
   "execution_count": null,
   "metadata": {},
   "outputs": [],
   "source": [
    "print(\"...\")\n",
    "entries_title[1].attrib"
   ]
  },
  {
   "cell_type": "code",
   "execution_count": null,
   "metadata": {},
   "outputs": [],
   "source": [
    "print(\"...\")\n",
    "entries_title[1].values()"
   ]
  },
  {
   "cell_type": "code",
   "execution_count": null,
   "metadata": {},
   "outputs": [],
   "source": [
    "entries_title_runtime = tree.xpath(\"//Title[@runtime]/text()\")\n",
    "# print(\"...\")\n",
    "entries_title_runtime"
   ]
  },
  {
   "cell_type": "code",
   "execution_count": null,
   "metadata": {},
   "outputs": [],
   "source": [
    "entries_title_runtime = tree.xpath(\"//Title[@runtime='142']/text()\")\n",
    "# print(\"...\")\n",
    "entries_title_runtime"
   ]
  },
  {
   "cell_type": "code",
   "execution_count": null,
   "metadata": {},
   "outputs": [],
   "source": [
    "for elem in entries_movie:\n",
    "    all_descendants = list(elem.iter())\n",
    "    print(all_descendants)\n",
    "    print(\" \")"
   ]
  },
  {
   "cell_type": "code",
   "execution_count": null,
   "metadata": {},
   "outputs": [],
   "source": [
    "# Задание 1: вывести на экран словарь, ключи которого - названия фильмов, значения - содержимое \"runtime\""
   ]
  },
  {
   "cell_type": "code",
   "execution_count": null,
   "metadata": {},
   "outputs": [],
   "source": [
    "# Задание 2: трансформировать содержимое movies.xml в формат json\n",
    "# Документация для стандартного модуля json: https://docs.python.org/3/library/json.html \n",
    "# Неофициальный перевод с примерами записи в json https://python-scripts.com/json?ysclid=lac4k0btwt466481369"
   ]
  }
 ],
 "metadata": {
  "kernelspec": {
   "display_name": "Python 3.9.9 64-bit",
   "language": "python",
   "name": "python3"
  },
  "language_info": {
   "codemirror_mode": {
    "name": "ipython",
    "version": 3
   },
   "file_extension": ".py",
   "mimetype": "text/x-python",
   "name": "python",
   "nbconvert_exporter": "python",
   "pygments_lexer": "ipython3",
   "version": "3.11.0"
  },
  "orig_nbformat": 2,
  "vscode": {
   "interpreter": {
    "hash": "7a792fcb311f9eb9f3c1b942a8c87ada8484712b89b670347c16a1088e0a1f69"
   }
  }
 },
 "nbformat": 4,
 "nbformat_minor": 2
}
