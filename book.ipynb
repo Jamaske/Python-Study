{
 "cells": [
  {
   "cell_type": "code",
   "execution_count": 34,
   "id": "7aabab47",
   "metadata": {},
   "outputs": [
    {
     "name": "stdout",
     "output_type": "stream",
     "text": [
      "Requirement already satisfied: pymorphy3 in c:\\users\\master\\documents\\my_scripts\\python\\.venv\\lib\\site-packages (2.0.3)\n",
      "Requirement already satisfied: dawg2-python>=0.8.0 in c:\\users\\master\\documents\\my_scripts\\python\\.venv\\lib\\site-packages (from pymorphy3) (0.9.0)\n",
      "Requirement already satisfied: pymorphy3-dicts-ru in c:\\users\\master\\documents\\my_scripts\\python\\.venv\\lib\\site-packages (from pymorphy3) (2.4.417150.4580142)\n",
      "Requirement already satisfied: setuptools>=68.2.2 in c:\\users\\master\\documents\\my_scripts\\python\\.venv\\lib\\site-packages (from pymorphy3) (80.7.1)\n",
      "Note: you may need to restart the kernel to use updated packages.\n"
     ]
    },
    {
     "name": "stderr",
     "output_type": "stream",
     "text": [
      "\n",
      "[notice] A new release of pip is available: 24.3.1 -> 25.1.1\n",
      "[notice] To update, run: python.exe -m pip install --upgrade pip\n"
     ]
    }
   ],
   "source": [
    "%pip install pymorphy3"
   ]
  },
  {
   "cell_type": "code",
   "execution_count": 35,
   "id": "91fe15ee",
   "metadata": {},
   "outputs": [],
   "source": [
    "import re\n",
    "from collections import defaultdict, Counter\n",
    "import pymorphy3"
   ]
  },
  {
   "cell_type": "code",
   "execution_count": 39,
   "id": "be96cc48",
   "metadata": {},
   "outputs": [
    {
     "ename": "KeyboardInterrupt",
     "evalue": "",
     "output_type": "error",
     "traceback": [
      "\u001b[31m---------------------------------------------------------------------------\u001b[39m",
      "\u001b[31mKeyError\u001b[39m                                  Traceback (most recent call last)",
      "\u001b[36mFile \u001b[39m\u001b[32m_pydevd_sys_monitoring\\\\_pydevd_sys_monitoring_cython.pyx:579\u001b[39m, in \u001b[36m_pydevd_sys_monitoring_cython._get_func_code_info\u001b[39m\u001b[34m()\u001b[39m\n",
      "\u001b[31mKeyError\u001b[39m: 'c:\\\\Users\\\\Master\\\\Documents\\\\my_scripts\\\\Python\\\\.venv\\\\Lib\\\\site-packages\\\\pymorphy3\\\\analyzer.py'",
      "\nDuring handling of the above exception, another exception occurred:\n",
      "\u001b[31mKeyError\u001b[39m                                  Traceback (most recent call last)",
      "\u001b[36mFile \u001b[39m\u001b[32mc:\\Users\\Master\\Documents\\my_scripts\\Python\\.venv\\Lib\\site-packages\\debugpy\\_vendored\\pydevd\\pydevd_file_utils.py:901\u001b[39m, in \u001b[36mget_abs_path_real_path_and_base_from_file\u001b[39m\u001b[34m(filename, NORM_PATHS_AND_BASE_CONTAINER)\u001b[39m\n\u001b[32m    900\u001b[39m \u001b[38;5;28;01mtry\u001b[39;00m:\n\u001b[32m--> \u001b[39m\u001b[32m901\u001b[39m     \u001b[38;5;28;01mreturn\u001b[39;00m \u001b[43mNORM_PATHS_AND_BASE_CONTAINER\u001b[49m\u001b[43m[\u001b[49m\u001b[43mfilename\u001b[49m\u001b[43m]\u001b[49m\n\u001b[32m    902\u001b[39m \u001b[38;5;28;01mexcept\u001b[39;00m:\n",
      "\u001b[31mKeyError\u001b[39m: 'c:\\\\Users\\\\Master\\\\Documents\\\\my_scripts\\\\Python\\\\.venv\\\\Lib\\\\site-packages\\\\pymorphy3\\\\analyzer.py'",
      "\nDuring handling of the above exception, another exception occurred:\n",
      "\u001b[31mKeyError\u001b[39m                                  Traceback (most recent call last)",
      "\u001b[36mFile \u001b[39m\u001b[32mc:\\Users\\Master\\Documents\\my_scripts\\Python\\.venv\\Lib\\site-packages\\debugpy\\_vendored\\pydevd\\pydevd_file_utils.py:433\u001b[39m, in \u001b[36m_abs_and_canonical_path\u001b[39m\u001b[34m(filename, NORM_PATHS_CONTAINER)\u001b[39m\n\u001b[32m    432\u001b[39m \u001b[38;5;28;01mtry\u001b[39;00m:\n\u001b[32m--> \u001b[39m\u001b[32m433\u001b[39m     \u001b[38;5;28;01mreturn\u001b[39;00m \u001b[43mNORM_PATHS_CONTAINER\u001b[49m\u001b[43m[\u001b[49m\u001b[43mfilename\u001b[49m\u001b[43m]\u001b[49m\n\u001b[32m    434\u001b[39m \u001b[38;5;28;01mexcept\u001b[39;00m:\n",
      "\u001b[31mKeyError\u001b[39m: 'c:\\\\Users\\\\Master\\\\Documents\\\\my_scripts\\\\Python\\\\.venv\\\\Lib\\\\site-packages\\\\pymorphy3\\\\analyzer.py'",
      "\nDuring handling of the above exception, another exception occurred:\n",
      "\u001b[31mKeyboardInterrupt\u001b[39m                         Traceback (most recent call last)",
      "\u001b[36mCell\u001b[39m\u001b[36m \u001b[39m\u001b[32mIn[39]\u001b[39m\u001b[32m, line 1\u001b[39m\n\u001b[32m----> \u001b[39m\u001b[32m1\u001b[39m morph = \u001b[43mpymorphy3\u001b[49m\u001b[43m.\u001b[49m\u001b[43mMorphAnalyzer\u001b[49m\u001b[43m(\u001b[49m\u001b[43m)\u001b[49m\n\u001b[32m      3\u001b[39m \u001b[38;5;66;03m# Входной текст\u001b[39;00m\n\u001b[32m      6\u001b[39m text = \u001b[33m\"\"\"\u001b[39m\n\u001b[32m      7\u001b[39m \u001b[33mВ случаях, предусмотренных законом, права, закрепляющие принадлежность объекта гражданских прав определенному лицу, ограничения таких прав и обременения имущества (права на имущество) подлежат государственной регистрации. Государственная регистрация прав на имущество осуществляется уполномоченным в соответствии с законом органом на основе принципов проверки законности оснований регистрации, публичности и достоверности государственного реестра. В государственном реестре должны быть указаны данные, позволяющие определенно установить объект, на который устанавливается право, управомоченное лицо, содержание права, основание его возникновения. Права на имущество, подлежащие государственной регистрации, возникают, изменяются и прекращаются с момента внесения соответствующей записи в государственный реестр, если иное не установлено законом. В случаях, предусмотренных законом или соглашением сторон, сделка, влекущая возникновение, изменение или прекращение прав на имущество, которые подлежат государственной регистрации, должна быть нотариально удостоверена. Запись в государственный реестр вносится при наличии заявлений об этом всех лиц, совершивших сделку, если иное не установлено законом. Если сделка совершена в нотариальной форме, запись в государственный реестр может быть внесена по заявлению любой стороны сделки, в том числе через нотариуса.\u001b[39m\n\u001b[32m      8\u001b[39m \n\u001b[32m   (...)\u001b[39m\u001b[32m     11\u001b[39m \u001b[33mСоставной частью особого правового режима недвижимого имущества является обязательная государственная регистрация прав на него (перехода прав на него, сделок с ним и обременений недвижимого имущества). Целью такой регистрации является установление прочной системы оборота недвижимости. Мировой опыт убедительно показывает, что для защиты прав частных собственников на недвижимость необходимо создать формальную регистрационную систему, которая гарантировала бы надежность и гласность гражданского оборота, была бы доступна для всех участников гражданских отношений и содержала бы объективную информацию о недвижимости. Государственная регистрация прав на недвижимое имущество и сделок с ним представляет собой элемент публично-правового регулирования в частноправовых отношениях. Однако первое выполняет вторичную роль по отношению к последним. Цель такого регулирования заключается в том, чтобы обеспечить стабильность в гражданских отношениях. Требование об отражении изменений вещно-правового положения участников в Едином государственном реестре прав на недвижимое имущество является реализацией принципа публичности в обороте недвижимости. Слово \u001b[39m\u001b[33m\"\u001b[39m\u001b[33mгосударственная\u001b[39m\u001b[33m\"\u001b[39m\u001b[33m означает, что регистрация должна осуществляться специально уполномоченными федеральными государственными органами. Таким органом в настоящее время является Федеральная служба государственной регистрации, кадастра и картографии (Росреестр).\u001b[39m\n\u001b[32m     12\u001b[39m \u001b[33m\"\"\"\u001b[39m\n",
      "\u001b[36mFile \u001b[39m\u001b[32mc:\\Users\\Master\\Documents\\my_scripts\\Python\\.venv\\Lib\\site-packages\\pymorphy3\\analyzer.py:205\u001b[39m, in \u001b[36mMorphAnalyzer.__init__\u001b[39m\u001b[34m(self, path, lang, result_type, units, probability_estimator_cls, char_substitutes)\u001b[39m\n\u001b[32m    202\u001b[39m _units: List[_Unit]\n\u001b[32m    203\u001b[39m _result_type: Union[Type[Parse], \u001b[38;5;28;01mNone\u001b[39;00m]\n\u001b[32m--> \u001b[39m\u001b[32m205\u001b[39m \u001b[38;5;28;01mdef\u001b[39;00m\u001b[38;5;250m \u001b[39m\u001b[34m__init__\u001b[39m(\u001b[38;5;28mself\u001b[39m, path=\u001b[38;5;28;01mNone\u001b[39;00m, lang=\u001b[38;5;28;01mNone\u001b[39;00m, result_type=Parse, units=\u001b[38;5;28;01mNone\u001b[39;00m,\n\u001b[32m    206\u001b[39m              probability_estimator_cls=auto, char_substitutes=auto):\n\u001b[32m    207\u001b[39m \n\u001b[32m    208\u001b[39m     \u001b[38;5;66;03m# save arguments for pickling/unpickling\u001b[39;00m\n\u001b[32m    209\u001b[39m     \u001b[38;5;28mself\u001b[39m._path = path\n\u001b[32m    210\u001b[39m     \u001b[38;5;28mself\u001b[39m._lang = lang\n",
      "\u001b[36mFile \u001b[39m\u001b[32m<stringsource>:69\u001b[39m, in \u001b[36mcfunc.to_py.__Pyx_CFunc_893235__29_pydevd_sys_monitoring_cython_object__lParen__etc_to_py_4code_18instruction_offset.wrap\u001b[39m\u001b[34m()\u001b[39m\n",
      "\u001b[36mFile \u001b[39m\u001b[32m_pydevd_sys_monitoring\\\\_pydevd_sys_monitoring_cython.pyx:1702\u001b[39m, in \u001b[36m_pydevd_sys_monitoring_cython._start_method_event\u001b[39m\u001b[34m()\u001b[39m\n",
      "\u001b[36mFile \u001b[39m\u001b[32m_pydevd_sys_monitoring\\\\_pydevd_sys_monitoring_cython.pyx:581\u001b[39m, in \u001b[36m_pydevd_sys_monitoring_cython._get_func_code_info\u001b[39m\u001b[34m()\u001b[39m\n",
      "\u001b[36mFile \u001b[39m\u001b[32mc:\\Users\\Master\\Documents\\my_scripts\\Python\\.venv\\Lib\\site-packages\\debugpy\\_vendored\\pydevd\\pydevd_file_utils.py:922\u001b[39m, in \u001b[36mget_abs_path_real_path_and_base_from_file\u001b[39m\u001b[34m(filename, NORM_PATHS_AND_BASE_CONTAINER)\u001b[39m\n\u001b[32m    919\u001b[39m     \u001b[38;5;28;01melif\u001b[39;00m f.endswith(\u001b[33m\"\u001b[39m\u001b[33m$py.class\u001b[39m\u001b[33m\"\u001b[39m):\n\u001b[32m    920\u001b[39m         f = f[: -\u001b[38;5;28mlen\u001b[39m(\u001b[33m\"\u001b[39m\u001b[33m$py.class\u001b[39m\u001b[33m\"\u001b[39m)] + \u001b[33m\"\u001b[39m\u001b[33m.py\u001b[39m\u001b[33m\"\u001b[39m\n\u001b[32m--> \u001b[39m\u001b[32m922\u001b[39m abs_path, canonical_normalized_filename = \u001b[43m_abs_and_canonical_path\u001b[49m\u001b[43m(\u001b[49m\u001b[43mf\u001b[49m\u001b[43m)\u001b[49m\n\u001b[32m    924\u001b[39m \u001b[38;5;28;01mtry\u001b[39;00m:\n\u001b[32m    925\u001b[39m     base = os_path_basename(canonical_normalized_filename)\n",
      "\u001b[36mFile \u001b[39m\u001b[32mc:\\Users\\Master\\Documents\\my_scripts\\Python\\.venv\\Lib\\site-packages\\debugpy\\_vendored\\pydevd\\pydevd_file_utils.py:459\u001b[39m, in \u001b[36m_abs_and_canonical_path\u001b[39m\u001b[34m(filename, NORM_PATHS_CONTAINER)\u001b[39m\n\u001b[32m    456\u001b[39m abs_path = _apply_func_and_normalize_case(filename, os_path_abspath, isabs, normalize)\n\u001b[32m    458\u001b[39m normalize = \u001b[38;5;28;01mTrue\u001b[39;00m\n\u001b[32m--> \u001b[39m\u001b[32m459\u001b[39m real_path = \u001b[43m_apply_func_and_normalize_case\u001b[49m\u001b[43m(\u001b[49m\u001b[43mfilename\u001b[49m\u001b[43m,\u001b[49m\u001b[43m \u001b[49m\u001b[43mos_path_real_path\u001b[49m\u001b[43m,\u001b[49m\u001b[43m \u001b[49m\u001b[43misabs\u001b[49m\u001b[43m,\u001b[49m\u001b[43m \u001b[49m\u001b[43mnormalize\u001b[49m\u001b[43m)\u001b[49m\n\u001b[32m    461\u001b[39m \u001b[38;5;66;03m# cache it for fast access later\u001b[39;00m\n\u001b[32m    462\u001b[39m NORM_PATHS_CONTAINER[filename] = abs_path, real_path\n",
      "\u001b[36mFile \u001b[39m\u001b[32mc:\\Users\\Master\\Documents\\my_scripts\\Python\\.venv\\Lib\\site-packages\\debugpy\\_vendored\\pydevd\\pydevd_file_utils.py:486\u001b[39m, in \u001b[36m_apply_func_and_normalize_case\u001b[39m\u001b[34m(filename, func, isabs, normalize_case, os_path_exists, join)\u001b[39m\n\u001b[32m    481\u001b[39m \u001b[38;5;28;01mif\u001b[39;00m filename.startswith(\u001b[33m\"\u001b[39m\u001b[33m<\u001b[39m\u001b[33m\"\u001b[39m):\n\u001b[32m    482\u001b[39m     \u001b[38;5;66;03m# Not really a file, rather a synthetic name like <string> or <ipython-...>;\u001b[39;00m\n\u001b[32m    483\u001b[39m     \u001b[38;5;66;03m# shouldn't be normalized.\u001b[39;00m\n\u001b[32m    484\u001b[39m     \u001b[38;5;28;01mreturn\u001b[39;00m filename\n\u001b[32m--> \u001b[39m\u001b[32m486\u001b[39m r = \u001b[43mfunc\u001b[49m\u001b[43m(\u001b[49m\u001b[43mfilename\u001b[49m\u001b[43m)\u001b[49m\n\u001b[32m    488\u001b[39m \u001b[38;5;28;01mif\u001b[39;00m \u001b[38;5;129;01mnot\u001b[39;00m isabs:\n\u001b[32m    489\u001b[39m     \u001b[38;5;28;01mif\u001b[39;00m \u001b[38;5;129;01mnot\u001b[39;00m os_path_exists(r):\n",
      "\u001b[36mFile \u001b[39m\u001b[32m<frozen ntpath>:726\u001b[39m, in \u001b[36mrealpath\u001b[39m\u001b[34m(path, strict)\u001b[39m\n",
      "\u001b[31mKeyboardInterrupt\u001b[39m: "
     ]
    }
   ],
   "source": [
    "morph = pymorphy3.MorphAnalyzer()\n",
    "\n",
    "# Входной текст\n",
    "\n",
    "\n",
    "text = \"\"\"\n",
    "В случаях, предусмотренных законом, права, закрепляющие принадлежность объекта гражданских прав определенному лицу, ограничения таких прав и обременения имущества (права на имущество) подлежат государственной регистрации. Государственная регистрация прав на имущество осуществляется уполномоченным в соответствии с законом органом на основе принципов проверки законности оснований регистрации, публичности и достоверности государственного реестра. В государственном реестре должны быть указаны данные, позволяющие определенно установить объект, на который устанавливается право, управомоченное лицо, содержание права, основание его возникновения. Права на имущество, подлежащие государственной регистрации, возникают, изменяются и прекращаются с момента внесения соответствующей записи в государственный реестр, если иное не установлено законом. В случаях, предусмотренных законом или соглашением сторон, сделка, влекущая возникновение, изменение или прекращение прав на имущество, которые подлежат государственной регистрации, должна быть нотариально удостоверена. Запись в государственный реестр вносится при наличии заявлений об этом всех лиц, совершивших сделку, если иное не установлено законом. Если сделка совершена в нотариальной форме, запись в государственный реестр может быть внесена по заявлению любой стороны сделки, в том числе через нотариуса.\n",
    "\n",
    "Гражданин отвечает по своим обязательствам всем принадлежащим ему имуществом, за исключением имущества, на которое в соответствии с законом не может быть обращено взыскание. Перечень имущества граждан, на которое не может быть обращено взыскание, устанавливается гражданским процессуальным законодательством. В п. 55 указанного Постановления Пленума Верховного Суда РФ разъясняется, что при обращении взыскания на имущество должника - индивидуального предпринимателя по требованиям исполнительного документа, не связанным с осуществлением предпринимательской деятельности, применяются правила очередности, предусмотренные статьей 69 Закона об исполнительном производстве. Вместе с тем при обращении судебным приставом-исполнителем взыскания на имущество должника - индивидуального предпринимателя по требованиям, связанным с его предпринимательской деятельностью (пункт 3 статьи 23 ГК РФ), необходимо соблюдать не только очередность, установленную статьей 69 Закона об исполнительном производстве, но и иные положения законов, определяющих очередность взыскания с учетом такого статуса должника, в частности нормы статьи 94 названного Закона.\n",
    "\n",
    "Составной частью особого правового режима недвижимого имущества является обязательная государственная регистрация прав на него (перехода прав на него, сделок с ним и обременений недвижимого имущества). Целью такой регистрации является установление прочной системы оборота недвижимости. Мировой опыт убедительно показывает, что для защиты прав частных собственников на недвижимость необходимо создать формальную регистрационную систему, которая гарантировала бы надежность и гласность гражданского оборота, была бы доступна для всех участников гражданских отношений и содержала бы объективную информацию о недвижимости. Государственная регистрация прав на недвижимое имущество и сделок с ним представляет собой элемент публично-правового регулирования в частноправовых отношениях. Однако первое выполняет вторичную роль по отношению к последним. Цель такого регулирования заключается в том, чтобы обеспечить стабильность в гражданских отношениях. Требование об отражении изменений вещно-правового положения участников в Едином государственном реестре прав на недвижимое имущество является реализацией принципа публичности в обороте недвижимости. Слово \"государственная\" означает, что регистрация должна осуществляться специально уполномоченными федеральными государственными органами. Таким органом в настоящее время является Федеральная служба государственной регистрации, кадастра и картографии (Росреестр).\n",
    "\"\"\"\n",
    "\n",
    "# Токенизация и морфоанализ\n",
    "tokens = re.findall(r'\\b[а-яА-ЯёЁ-]{2,}\\b', text.lower())\n",
    "parsed = [morph.parse(token)[0] for token in tokens]\n",
    "\n",
    "# Фильтрация: оставить только значимые части речи\n",
    "content_words = [\n",
    "    p for p in parsed\n",
    "    if p.tag.POS not in {'CONJ', 'PRCL', 'PREP', 'INTJ'}\n",
    "]\n",
    "\n",
    "print(content_words)\n"
   ]
  },
  {
   "cell_type": "code",
   "execution_count": null,
   "id": "9a518820",
   "metadata": {},
   "outputs": [
    {
     "name": "stdout",
     "output_type": "stream",
     "text": [
      "165\n",
      "{'государственный': 15, 'право': 14, 'имущество': 14, 'закон': 10, 'регистрация': 10, 'реестр': 6, 'быть': 6, 'сделка': 6, 'гражданский': 5, 'такой': 5, 'который': 5, 'он': 5, 'взыскание': 5, 'статья': 4, 'недвижимый': 4, 'являться': 4, 'недвижимость': 4, 'отношение': 4, 'лицо': 3, 'орган': 3, 'должный': 3, 'установить': 3, 'запись': 3, 'иной': 3, 'весь': 3, 'мочь': 3, 'должник': 3, 'требование': 3, 'исполнительный': 3, 'очерёдность': 3, 'оборот': 3}\n"
     ]
    }
   ],
   "source": [
    "# Вариант 1: группировка словоформ в леммы, затем фильтрация\n",
    "l1_counter = Counter(p.normal_form for p in content_words)\n",
    "\n",
    "l1_filter = {lemma: count for lemma, count in l1_counter.items() if count > 2}\n",
    "\n",
    "l1_answer = dict(sorted(l1_filter.items(), key=lambda x: -x[1]))\n",
    "\n",
    "print(sum(l1_answer.values()))\n",
    "print(l1_answer)"
   ]
  },
  {
   "cell_type": "code",
   "execution_count": null,
   "id": "8a91c9c6",
   "metadata": {},
   "outputs": [
    {
     "name": "stdout",
     "output_type": "stream",
     "text": [
      "83\n",
      "{'право': 13, 'имущество': 13, 'государственный': 11, 'регистрация': 10, 'закон': 9, 'быть': 5, 'являться': 4, 'гражданский': 3, 'реестр': 3, 'мочь': 3, 'взыскание': 3, 'должник': 3, 'недвижимость': 3}\n"
     ]
    }
   ],
   "source": [
    "# Вариант 2: фильтрация по словоформам, затем группировка в леммы\n",
    "l2_counter1 = Counter(content_words)\n",
    "l2_filtered = {form: count for form, count in l2_counter1.items() if count > 2}\n",
    "l2_counter2 = defaultdict(int)\n",
    "for form, count in l2_filtered.items():\n",
    "    l2_counter2[form.normal_form] += count\n",
    "l2_answer = dict(sorted(l2_counter2.items(), key=lambda x: -x[1]))\n",
    "\n",
    "print(sum(l2_answer.values()))\n",
    "print(l2_answer)\n"
   ]
  }
 ],
 "metadata": {
  "kernelspec": {
   "display_name": ".venv",
   "language": "python",
   "name": "python3"
  },
  "language_info": {
   "codemirror_mode": {
    "name": "ipython",
    "version": 3
   },
   "file_extension": ".py",
   "mimetype": "text/x-python",
   "name": "python",
   "nbconvert_exporter": "python",
   "pygments_lexer": "ipython3",
   "version": "3.13.2"
  }
 },
 "nbformat": 4,
 "nbformat_minor": 5
}
