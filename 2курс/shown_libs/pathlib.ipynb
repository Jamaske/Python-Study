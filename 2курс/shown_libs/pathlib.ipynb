{
 "cells": [
  {
   "cell_type": "code",
   "execution_count": 1,
   "metadata": {},
   "outputs": [],
   "source": [
    "import pathlib"
   ]
  },
  {
   "cell_type": "code",
   "execution_count": 2,
   "metadata": {},
   "outputs": [
    {
     "name": "stdout",
     "output_type": "stream",
     "text": [
      "текущая директория: /Users/vladimir/Library/CloudStorage/OneDrive-УрФУ/python lectures/moais/last_lessons_libs_show\n",
      "домашняя директория: /Users/vladimir\n"
     ]
    }
   ],
   "source": [
    "current_dir = pathlib.Path.cwd()\n",
    "home_dir = pathlib.Path.home()\n",
    " \n",
    "print(\"текущая директория: {}\".format(current_dir))\n",
    "print(\"домашняя директория: {}\".format(home_dir))"
   ]
  },
  {
   "cell_type": "code",
   "execution_count": 3,
   "metadata": {},
   "outputs": [],
   "source": [
    "with open('test.txt', 'w') as t_file:\n",
    "    print('test string', file=t_file)"
   ]
  },
  {
   "cell_type": "code",
   "execution_count": 4,
   "metadata": {},
   "outputs": [
    {
     "data": {
      "text/plain": [
       "[PosixPath('savetxt_example.txt'), PosixPath('test.txt')]"
      ]
     },
     "execution_count": 4,
     "metadata": {},
     "output_type": "execute_result"
    }
   ],
   "source": [
    "[f for f in pathlib.Path('.').glob('*.txt')] "
   ]
  },
  {
   "cell_type": "code",
   "execution_count": 10,
   "metadata": {},
   "outputs": [],
   "source": [
    "path = pathlib.Path('..','test_level_up.txt')"
   ]
  },
  {
   "cell_type": "code",
   "execution_count": 11,
   "metadata": {},
   "outputs": [],
   "source": [
    "with open(path, 'w') as t_file:\n",
    "    print('test string', file=t_file)"
   ]
  },
  {
   "cell_type": "code",
   "execution_count": 12,
   "metadata": {},
   "outputs": [
    {
     "data": {
      "text/plain": [
       "[PosixPath('h.txt'), PosixPath('test.txt')]"
      ]
     },
     "execution_count": 12,
     "metadata": {},
     "output_type": "execute_result"
    }
   ],
   "source": [
    "[f for f in pathlib.Path('.').glob('*.txt')] "
   ]
  },
  {
   "cell_type": "code",
   "execution_count": 13,
   "metadata": {},
   "outputs": [
    {
     "data": {
      "text/plain": [
       "[PosixPath('../test_level_up.txt')]"
      ]
     },
     "execution_count": 13,
     "metadata": {},
     "output_type": "execute_result"
    }
   ],
   "source": [
    "[f for f in pathlib.Path('..').glob('*.txt')] "
   ]
  },
  {
   "cell_type": "code",
   "execution_count": 15,
   "metadata": {},
   "outputs": [],
   "source": [
    "example = [f for f in pathlib.Path('/Users/vladimir').glob('*.txt')][0] "
   ]
  },
  {
   "cell_type": "markdown",
   "metadata": {},
   "source": [
    "Path.cwd() - возвращает путь объекта текущей рабочей директории;\n",
    "\n",
    "Path.home() - возвращает путь объекта домашней директории;\n",
    "\n",
    "Path.stat() - возвращает информацию о пути;\n",
    "\n",
    "Path.chmod() - меняет режим и уровень доступа файла;\n",
    "\n",
    "Path.glob(pattern)- получение всех файлов которые соответствуют шаблону;\n",
    "\n",
    "Path.mkdir() - создает новую папку по данному пути;\n",
    "\n",
    "Path.rename() - переименовывает файл или директорию указанной цели;\n",
    "\n",
    "Path.rmdir() - удаляет пустую директорию;\n",
    "\n",
    "Path.unlink() - удаляет файл или символическую ссылку."
   ]
  },
  {
   "cell_type": "code",
   "execution_count": 16,
   "metadata": {},
   "outputs": [
    {
     "data": {
      "text/plain": [
       "PosixPath('/Users/vladimir/test_level_up.txt')"
      ]
     },
     "execution_count": 16,
     "metadata": {},
     "output_type": "execute_result"
    }
   ],
   "source": [
    "example.parts"
   ]
  },
  {
   "cell_type": "code",
   "execution_count": 17,
   "metadata": {},
   "outputs": [
    {
     "data": {
      "text/plain": [
       "('/', 'Users', 'vladimir', 'test_level_up.txt')"
      ]
     },
     "execution_count": 17,
     "metadata": {},
     "output_type": "execute_result"
    }
   ],
   "source": [
    "example.parts"
   ]
  },
  {
   "cell_type": "code",
   "execution_count": 19,
   "metadata": {},
   "outputs": [
    {
     "data": {
      "text/plain": [
       "'test_level_up.txt'"
      ]
     },
     "execution_count": 19,
     "metadata": {},
     "output_type": "execute_result"
    }
   ],
   "source": [
    "example.name"
   ]
  },
  {
   "cell_type": "code",
   "execution_count": 20,
   "metadata": {},
   "outputs": [
    {
     "data": {
      "text/plain": [
       "'test_level_up'"
      ]
     },
     "execution_count": 20,
     "metadata": {},
     "output_type": "execute_result"
    }
   ],
   "source": [
    "example.stem"
   ]
  },
  {
   "cell_type": "code",
   "execution_count": 21,
   "metadata": {},
   "outputs": [
    {
     "data": {
      "text/plain": [
       "'.txt'"
      ]
     },
     "execution_count": 21,
     "metadata": {},
     "output_type": "execute_result"
    }
   ],
   "source": [
    "example.suffix"
   ]
  },
  {
   "cell_type": "code",
   "execution_count": 22,
   "metadata": {},
   "outputs": [
    {
     "data": {
      "text/plain": [
       "PosixPath('/Users/vladimir')"
      ]
     },
     "execution_count": 22,
     "metadata": {},
     "output_type": "execute_result"
    }
   ],
   "source": [
    "example.parent"
   ]
  },
  {
   "cell_type": "code",
   "execution_count": 24,
   "metadata": {},
   "outputs": [],
   "source": [
    "example.parent.joinpath('new_folder').mkdir() "
   ]
  },
  {
   "cell_type": "code",
   "execution_count": 25,
   "metadata": {},
   "outputs": [],
   "source": [
    "import os"
   ]
  },
  {
   "cell_type": "code",
   "execution_count": 27,
   "metadata": {},
   "outputs": [
    {
     "data": {
      "text/plain": [
       "['.config',\n",
       " '.macports',\n",
       " 'Music',\n",
       " 'new_folder',\n",
       " '.vimundo',\n",
       " '.docker',\n",
       " '.vim',\n",
       " '.DS_Store',\n",
       " 'VirtualBox VMs',\n",
       " '.lldb',\n",
       " '.CFUserTextEncoding',\n",
       " '.498731.padl',\n",
       " '.vimswap',\n",
       " '.subversion',\n",
       " '.zshrc',\n",
       " 'test_level_up.txt',\n",
       " 'OneDrive',\n",
       " '.local',\n",
       " 'Pictures',\n",
       " '.zprofile',\n",
       " 'Samsung',\n",
       " '.zsh_history',\n",
       " '.ipython',\n",
       " 'Desktop',\n",
       " 'Library',\n",
       " '.matplotlib',\n",
       " '.oracle_jre_usage',\n",
       " '.cups',\n",
       " '.bash_sessions',\n",
       " 'Public',\n",
       " 'УрФУ',\n",
       " '.yandex',\n",
       " '.idlerc',\n",
       " '.ssh',\n",
       " 'Movies',\n",
       " '.vimviews',\n",
       " '.vimrc',\n",
       " 'Applications',\n",
       " '.profile',\n",
       " '.Trash',\n",
       " '.zoomus',\n",
       " '.jupyter',\n",
       " '.zcompdump',\n",
       " 'Documents',\n",
       " 'OneDrive - УрФУ',\n",
       " '.vimbackup',\n",
       " '.vscode',\n",
       " '.bash_profile',\n",
       " 'Downloads',\n",
       " '.python_history',\n",
       " '.cache',\n",
       " '.inputrc',\n",
       " '.gitconfig',\n",
       " 'GlobalMeet Guest Desktop',\n",
       " '.gitexcludes',\n",
       " 'vim-tswr',\n",
       " '.bash_history',\n",
       " '.viminfo',\n",
       " '.cmake']"
      ]
     },
     "execution_count": 27,
     "metadata": {},
     "output_type": "execute_result"
    }
   ],
   "source": [
    "os.listdir('..')"
   ]
  },
  {
   "cell_type": "code",
   "execution_count": 28,
   "metadata": {},
   "outputs": [],
   "source": [
    "example.parent.joinpath('new_folder').rmdir()"
   ]
  },
  {
   "cell_type": "code",
   "execution_count": 30,
   "metadata": {},
   "outputs": [
    {
     "data": {
      "text/plain": [
       "[PosixPath('h.txt')]"
      ]
     },
     "execution_count": 30,
     "metadata": {},
     "output_type": "execute_result"
    }
   ],
   "source": [
    "[f for f in pathlib.Path('.').glob('h*')] "
   ]
  },
  {
   "cell_type": "code",
   "execution_count": 31,
   "metadata": {},
   "outputs": [
    {
     "data": {
      "text/plain": [
       "[PosixPath('h.txt')]"
      ]
     },
     "execution_count": 31,
     "metadata": {},
     "output_type": "execute_result"
    }
   ],
   "source": [
    "list(pathlib.Path('.').glob('h*'))"
   ]
  },
  {
   "cell_type": "code",
   "execution_count": null,
   "metadata": {},
   "outputs": [],
   "source": []
  }
 ],
 "metadata": {
  "kernelspec": {
   "display_name": "Python 3 (ipykernel)",
   "language": "python",
   "name": "python3"
  },
  "language_info": {
   "codemirror_mode": {
    "name": "ipython",
    "version": 3
   },
   "file_extension": ".py",
   "mimetype": "text/x-python",
   "name": "python",
   "nbconvert_exporter": "python",
   "pygments_lexer": "ipython3",
   "version": "3.9.9"
  }
 },
 "nbformat": 4,
 "nbformat_minor": 4
}
